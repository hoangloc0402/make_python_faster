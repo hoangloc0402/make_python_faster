{
 "cells": [
  {
   "cell_type": "code",
   "execution_count": 49,
   "metadata": {},
   "outputs": [],
   "source": [
    "import time\n",
    "import random\n",
    "from typing import List, Dict"
   ]
  },
  {
   "cell_type": "markdown",
   "metadata": {},
   "source": [
    "## FOR LOOP\n",
    "\n",
    "Remove from the loop any execution code that does not need to be executed on each pass. <br>\n",
    "Move any code that is repeatedly executed with the same result, and assign that code to a temporary variable before the loop"
   ]
  },
  {
   "cell_type": "code",
   "execution_count": 18,
   "metadata": {},
   "outputs": [],
   "source": [
    "RADIUSES = [random.random() for _ in range(10000)]"
   ]
  },
  {
   "cell_type": "code",
   "execution_count": 19,
   "metadata": {},
   "outputs": [
    {
     "name": "stdout",
     "output_type": "stream",
     "text": [
      "1.18 ms ± 1.04 µs per loop (mean ± std. dev. of 7 runs, 1000 loops each)\n"
     ]
    }
   ],
   "source": [
    "%%timeit\n",
    "'''\n",
    "    Problem\n",
    "'''\n",
    "circumferences = []\n",
    "\n",
    "for r in RADIUSES:\n",
    "    PI = 3.1415\n",
    "    circ = 2 * r * PI\n",
    "    circumferences.append(circ)"
   ]
  },
  {
   "cell_type": "code",
   "execution_count": 20,
   "metadata": {},
   "outputs": [
    {
     "name": "stdout",
     "output_type": "stream",
     "text": [
      "1.09 ms ± 924 ns per loop (mean ± std. dev. of 7 runs, 1000 loops each)\n"
     ]
    }
   ],
   "source": [
    "%%timeit\n",
    "'''\n",
    "    Move out unnecessary variable declarations\n",
    "'''\n",
    "circumferences = []\n",
    "PI = 3.1415\n",
    "\n",
    "for r in RADIUSES:\n",
    "    circ = 2 * r * PI\n",
    "    circumferences.append(circ)"
   ]
  },
  {
   "cell_type": "code",
   "execution_count": 22,
   "metadata": {},
   "outputs": [
    {
     "name": "stdout",
     "output_type": "stream",
     "text": [
      "941 µs ± 883 ns per loop (mean ± std. dev. of 7 runs, 1000 loops each)\n"
     ]
    }
   ],
   "source": [
    "%%timeit\n",
    "'''\n",
    "    Constant folding\n",
    "    \n",
    "    In many equations, terms cancel out... either always or in some special cases.\n",
    "    The compiler cannot find these simplifications, but you can.\n",
    "    Eliminating a few expensive operations inside an inner loop\n",
    "    can speed your program more than days working on other parts.\n",
    "\n",
    "'''\n",
    "circumferences = []\n",
    "DOUBLE_PI = 2 * 3.1415\n",
    "\n",
    "for r in RADIUSES:\n",
    "    circ = r * DOUBLE_PI\n",
    "    circumferences.append(circ)"
   ]
  },
  {
   "cell_type": "code",
   "execution_count": 24,
   "metadata": {},
   "outputs": [
    {
     "name": "stdout",
     "output_type": "stream",
     "text": [
      "929 µs ± 213 ns per loop (mean ± std. dev. of 7 runs, 1000 loops each)\n"
     ]
    }
   ],
   "source": [
    "%%timeit\n",
    "'''\n",
    "    Better constant folding\n",
    "'''\n",
    "circumferences = []\n",
    "DOUBLE_PI = 6.283\n",
    "\n",
    "for r in RADIUSES:\n",
    "    circ = r * DOUBLE_PI\n",
    "    circumferences.append(circ)"
   ]
  },
  {
   "cell_type": "code",
   "execution_count": 25,
   "metadata": {},
   "outputs": [
    {
     "name": "stdout",
     "output_type": "stream",
     "text": [
      "667 µs ± 565 ns per loop (mean ± std. dev. of 7 runs, 1000 loops each)\n"
     ]
    }
   ],
   "source": [
    "%%timeit\n",
    "'''\n",
    "    Every use of the dot (.) operator to access attributes comes with a cost.\n",
    "    Under the covers, this triggers special methods, such as __getattribute__() and __getattr__(),\n",
    "    which often lead to dictionary lookups.\n",
    "'''\n",
    "circumferences = []\n",
    "circumferences_append = circumferences.append\n",
    "DOUBLE_PI = 6.283\n",
    "\n",
    "for r in RADIUSES:\n",
    "    circ = r * DOUBLE_PI\n",
    "    circumferences_append(circ)"
   ]
  },
  {
   "cell_type": "code",
   "execution_count": 27,
   "metadata": {},
   "outputs": [
    {
     "name": "stdout",
     "output_type": "stream",
     "text": [
      "585 µs ± 201 ns per loop (mean ± std. dev. of 7 runs, 1000 loops each)\n"
     ]
    }
   ],
   "source": [
    "%%timeit\n",
    "'''\n",
    "    TODO\n",
    "'''\n",
    "circumferences = []\n",
    "circumferences_append = circumferences.append\n",
    "DOUBLE_PI = 6.283\n",
    "\n",
    "for r in RADIUSES:\n",
    "    circumferences_append(r * DOUBLE_PI)"
   ]
  },
  {
   "cell_type": "markdown",
   "metadata": {},
   "source": [
    "## FUNCTION CALL\n",
    "\n",
    "Care about function call overhead. <br>\n",
    "Function calls require two jumps, in addition to stack memory manipulation"
   ]
  },
  {
   "cell_type": "code",
   "execution_count": 30,
   "metadata": {},
   "outputs": [],
   "source": [
    "RADIUSES = [random.random() for _ in range(10000)]\n",
    "DOUBLE_PI = 6.283\n",
    "\n",
    "def cal_cir(radius: float):\n",
    "    return radius * DOUBLE_PI"
   ]
  },
  {
   "cell_type": "code",
   "execution_count": 31,
   "metadata": {},
   "outputs": [
    {
     "name": "stdout",
     "output_type": "stream",
     "text": [
      "1.41 ms ± 291 ns per loop (mean ± std. dev. of 7 runs, 1000 loops each)\n"
     ]
    }
   ],
   "source": [
    "%%timeit\n",
    "'''\n",
    "    FOR loop over a function\n",
    "'''\n",
    "circumferences = []\n",
    "circumferences_append = circumferences.append\n",
    "\n",
    "for r in RADIUSES:\n",
    "    circumferences_append(\n",
    "        cal_cir(r)\n",
    "    )"
   ]
  },
  {
   "cell_type": "code",
   "execution_count": null,
   "metadata": {},
   "outputs": [],
   "source": [
    "def cal_cir_list(radiuses: List[float]):\n",
    "    circumferences = []\n",
    "    circumferences_append = circumferences.append\n",
    "    \n",
    "    for r in radiuses:\n",
    "        circumferences_append(r * DOUBLE_PI)\n",
    "    return circumferences"
   ]
  },
  {
   "cell_type": "code",
   "execution_count": 32,
   "metadata": {},
   "outputs": [
    {
     "name": "stdout",
     "output_type": "stream",
     "text": [
      "621 µs ± 251 ns per loop (mean ± std. dev. of 7 runs, 1000 loops each)\n"
     ]
    }
   ],
   "source": [
    "%%timeit\n",
    "'''\n",
    "    FOR loop inside a function\n",
    "'''\n",
    "circumferences = cal_cir_list(RADIUSES)"
   ]
  },
  {
   "cell_type": "markdown",
   "metadata": {},
   "source": [
    "## IF-ELSE STATEMENT\n",
    "\n",
    "Avoid unnecessary condition checkings. <br>"
   ]
  },
  {
   "cell_type": "code",
   "execution_count": 33,
   "metadata": {},
   "outputs": [],
   "source": [
    "NUMBERS = [0, 1, 1, 1, 2, 2, 2, 2, 2, 2]"
   ]
  },
  {
   "cell_type": "code",
   "execution_count": 34,
   "metadata": {},
   "outputs": [
    {
     "name": "stdout",
     "output_type": "stream",
     "text": [
      "666 ns ± 0.279 ns per loop (mean ± std. dev. of 7 runs, 1000000 loops each)\n"
     ]
    }
   ],
   "source": [
    "%%timeit\n",
    "for num in NUMBERS:\n",
    "    if num == 0:\n",
    "        pass #Do something\n",
    "    elif num == 1:\n",
    "        pass #Do something\n",
    "    elif num == 2:\n",
    "        pass #Do something\n",
    "    else:\n",
    "        pass #Do something"
   ]
  },
  {
   "cell_type": "code",
   "execution_count": 35,
   "metadata": {},
   "outputs": [
    {
     "name": "stdout",
     "output_type": "stream",
     "text": [
      "452 ns ± 1.22 ns per loop (mean ± std. dev. of 7 runs, 1000000 loops each)\n"
     ]
    }
   ],
   "source": [
    "%%timeit\n",
    "'''\n",
    "    Re-organize the order of conditions in if-else statement\n",
    "    \n",
    "    Require prior knowledge about the distribution of data\n",
    "'''\n",
    "for num in NUMBERS:\n",
    "    if num == 2:\n",
    "        pass #Do something\n",
    "    elif num == 1:\n",
    "        pass #Do something\n",
    "    elif num == 0:\n",
    "        pass #Do something\n",
    "    else:\n",
    "        pass #Do something"
   ]
  },
  {
   "cell_type": "markdown",
   "metadata": {},
   "source": [
    "## SHORT CIRCUIT\n",
    "\n",
    "By short circuiting we mean the stoppage of execution of boolean operation if the truth value of expression has been determined already. <br>\n",
    "The evaluation of expression takes place from left to right. <br>"
   ]
  },
  {
   "cell_type": "code",
   "execution_count": 39,
   "metadata": {},
   "outputs": [],
   "source": [
    "'''\n",
    "    AND operator:\n",
    "        A and B: if we already know A is False, then (A and B) is False for sure\n",
    "            no need to check for the value of B\n",
    "'''\n",
    "\n",
    "conditions_A = [False]*20 + [True]*80\n",
    "conditions_B = [False]*90 + [True]*10"
   ]
  },
  {
   "cell_type": "code",
   "execution_count": 41,
   "metadata": {},
   "outputs": [
    {
     "name": "stdout",
     "output_type": "stream",
     "text": [
      "5.05 µs ± 1.91 ns per loop (mean ± std. dev. of 7 runs, 100000 loops each)\n"
     ]
    }
   ],
   "source": [
    "%%timeit\n",
    "for a, b in zip(conditions_A, conditions_B):\n",
    "    if a and b:\n",
    "        pass #Do something"
   ]
  },
  {
   "cell_type": "code",
   "execution_count": 42,
   "metadata": {},
   "outputs": [
    {
     "name": "stdout",
     "output_type": "stream",
     "text": [
      "4.69 µs ± 13.3 ns per loop (mean ± std. dev. of 7 runs, 100000 loops each)\n"
     ]
    }
   ],
   "source": [
    "%%timeit\n",
    "for a, b in zip(conditions_A, conditions_B):\n",
    "    if b and a:\n",
    "        pass #Do something"
   ]
  },
  {
   "cell_type": "code",
   "execution_count": 43,
   "metadata": {},
   "outputs": [],
   "source": [
    "'''\n",
    "    OR operator:\n",
    "        A or B: if we already know A is True, then (A or B) is True for sure\n",
    "            no need to check for the value of B\n",
    "'''\n",
    "\n",
    "conditions_A = [True]*20 + [False]*80\n",
    "conditions_B = [True]*90 + [False]*10"
   ]
  },
  {
   "cell_type": "code",
   "execution_count": 44,
   "metadata": {},
   "outputs": [
    {
     "name": "stdout",
     "output_type": "stream",
     "text": [
      "4.93 µs ± 6.91 ns per loop (mean ± std. dev. of 7 runs, 100000 loops each)\n"
     ]
    }
   ],
   "source": [
    "%%timeit\n",
    "for a, b in zip(conditions_A, conditions_B):\n",
    "    if a or b:\n",
    "        pass #Do something"
   ]
  },
  {
   "cell_type": "code",
   "execution_count": 45,
   "metadata": {},
   "outputs": [
    {
     "name": "stdout",
     "output_type": "stream",
     "text": [
      "4.58 µs ± 3.8 ns per loop (mean ± std. dev. of 7 runs, 100000 loops each)\n"
     ]
    }
   ],
   "source": [
    "%%timeit\n",
    "for a, b in zip(conditions_A, conditions_B):\n",
    "    if b or a:\n",
    "        pass #Do something"
   ]
  },
  {
   "cell_type": "markdown",
   "metadata": {},
   "source": [
    "## VARIABLE SCOPE\n",
    "\n",
    "It’s not limited to Python, almost all languages disapprove the excessive or unplanned use of globals.\n",
    "The reason behind is that they could have hidden/non-obvious side effects leading to Spaghetti code.\n",
    "Moreover, Python is real slow at accessing external variables.\n",
    "\n",
    "However, it permits the limited use of global variables.\n",
    "You can declare an external variable using the global keyword.\n",
    "Also, make a local copy before using them inside loops.\n",
    "\n",
    "This has to do with the speed of lookup of variables in each scope. I’m writing each scope,\n",
    "because it’s not just about using local vs. global variables.\n",
    "There’s actually a difference in speed of lookup even between — let’s say — local variable in function (fastest),\n",
    "class-level attribute (e.g. self.name - slower) and global for example imported function like time.time (slowest).\n",
    " <br>"
   ]
  },
  {
   "cell_type": "code",
   "execution_count": 63,
   "metadata": {},
   "outputs": [
    {
     "name": "stdout",
     "output_type": "stream",
     "text": [
      "Access GLOBAL_PI: 9.5367431640625e-07\n",
      "Access LOCAL_PI : 4.76837158203125e-07\n"
     ]
    }
   ],
   "source": [
    "GLOBAL_PI = 3.14\n",
    "\n",
    "def func():\n",
    "    LOCAL_PI = 3.14\n",
    "    \n",
    "    start = time.time()\n",
    "    a = GLOBAL_PI\n",
    "    print(f'Access GLOBAL_PI: {time.time()-start}')\n",
    "    \n",
    "    start = time.time()\n",
    "    b = LOCAL_PI\n",
    "    print(f'Access LOCAL_PI : {time.time()-start}')\n",
    "\n",
    "func()"
   ]
  },
  {
   "cell_type": "code",
   "execution_count": 72,
   "metadata": {},
   "outputs": [],
   "source": [
    "GLOBAL_PI = 0\n",
    "\n",
    "class FunnyClass:\n",
    "    def __init__(self):\n",
    "        self.value = 10\n",
    "        \n",
    "    def access_global_directly(self):\n",
    "        for _ in range(10000):\n",
    "            #Do something that requires reading value of GLOBAL_PI\n",
    "            var = GLOBAL_PI\n",
    "    \n",
    "    def access_global_after_copied(self):\n",
    "        pi = GLOBAL_PI\n",
    "        for _ in range(10000):\n",
    "            var = pi\n",
    "\n",
    "    def access_self_directly(self):\n",
    "        for _ in range(10000):\n",
    "            #Do something that requires reading value of self.value\n",
    "            var = self.value\n",
    "    \n",
    "    def access_self_after_copied(self):\n",
    "        value = self.value\n",
    "        for _ in range(10000):\n",
    "            var = value\n",
    "\n",
    "cls = FunnyClass()"
   ]
  },
  {
   "cell_type": "code",
   "execution_count": 70,
   "metadata": {},
   "outputs": [
    {
     "name": "stdout",
     "output_type": "stream",
     "text": [
      "285 µs ± 440 ns per loop (mean ± std. dev. of 7 runs, 1000 loops each)\n"
     ]
    }
   ],
   "source": [
    "%%timeit\n",
    "cls.access_global_directly()"
   ]
  },
  {
   "cell_type": "code",
   "execution_count": 71,
   "metadata": {},
   "outputs": [
    {
     "name": "stdout",
     "output_type": "stream",
     "text": [
      "237 µs ± 8.2 µs per loop (mean ± std. dev. of 7 runs, 1000 loops each)\n"
     ]
    }
   ],
   "source": [
    "%%timeit\n",
    "cls.access_global_after_copied()"
   ]
  },
  {
   "cell_type": "code",
   "execution_count": 73,
   "metadata": {},
   "outputs": [
    {
     "name": "stdout",
     "output_type": "stream",
     "text": [
      "442 µs ± 8.56 µs per loop (mean ± std. dev. of 7 runs, 1000 loops each)\n"
     ]
    }
   ],
   "source": [
    "%%timeit\n",
    "cls.access_self_directly()"
   ]
  },
  {
   "cell_type": "code",
   "execution_count": 74,
   "metadata": {},
   "outputs": [
    {
     "name": "stdout",
     "output_type": "stream",
     "text": [
      "236 µs ± 118 ns per loop (mean ± std. dev. of 7 runs, 1000 loops each)\n"
     ]
    }
   ],
   "source": [
    "%%timeit\n",
    "cls.access_self_after_copied()"
   ]
  },
  {
   "cell_type": "code",
   "execution_count": null,
   "metadata": {},
   "outputs": [],
   "source": [
    "# https://people.cs.clemson.edu/~dhouse/courses/405/papers/optimize.pdf"
   ]
  },
  {
   "cell_type": "markdown",
   "metadata": {},
   "source": [
    "## PHYSICAL MEMORY\n",
    "Two and higher dimensional arrays are still stored in one dimensional memory. This means (for C/C++\n",
    "arrays) array[i][j] and array[i][j+1] are adjacent to each other, whereas array[i][j] and array[i+1][j]\n",
    "may be arbitrarily far apart.\n",
    "\n",
    "Accessing data in a more-or-less sequential fashion, as stored in physical memory, can dramatically speed\n",
    "up your code (sometimes by an order of magnitude, or more)!\n",
    "\n",
    "When modern CPUs load data from main memory into processor cache, they fetch more than a single\n",
    "value. Instead they fetch a block of memory containing the requested data and adjacent data (a cache\n",
    "line). This means after array[i][j] is in the CPU cache, array[i][j+1] has a good chance of already being\n",
    "in cache, whereas array[i+1][j] is likely to still be in main memory. <br>"
   ]
  },
  {
   "cell_type": "code",
   "execution_count": null,
   "metadata": {},
   "outputs": [],
   "source": []
  },
  {
   "cell_type": "code",
   "execution_count": null,
   "metadata": {},
   "outputs": [],
   "source": []
  },
  {
   "cell_type": "code",
   "execution_count": null,
   "metadata": {},
   "outputs": [],
   "source": []
  },
  {
   "cell_type": "code",
   "execution_count": null,
   "metadata": {},
   "outputs": [],
   "source": []
  },
  {
   "cell_type": "code",
   "execution_count": null,
   "metadata": {},
   "outputs": [],
   "source": []
  },
  {
   "cell_type": "code",
   "execution_count": null,
   "metadata": {},
   "outputs": [],
   "source": []
  },
  {
   "cell_type": "code",
   "execution_count": null,
   "metadata": {},
   "outputs": [],
   "source": []
  },
  {
   "cell_type": "code",
   "execution_count": null,
   "metadata": {},
   "outputs": [],
   "source": []
  },
  {
   "cell_type": "code",
   "execution_count": null,
   "metadata": {},
   "outputs": [],
   "source": []
  }
 ],
 "metadata": {
  "kernelspec": {
   "display_name": "Python 3",
   "language": "python",
   "name": "python3"
  },
  "language_info": {
   "codemirror_mode": {
    "name": "ipython",
    "version": 3
   },
   "file_extension": ".py",
   "mimetype": "text/x-python",
   "name": "python",
   "nbconvert_exporter": "python",
   "pygments_lexer": "ipython3",
   "version": "3.6.9"
  }
 },
 "nbformat": 4,
 "nbformat_minor": 2
}
